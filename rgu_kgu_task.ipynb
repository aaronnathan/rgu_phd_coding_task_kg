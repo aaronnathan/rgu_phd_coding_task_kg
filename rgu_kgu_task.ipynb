{
  "nbformat": 4,
  "nbformat_minor": 0,
  "metadata": {
    "colab": {
      "name": "Untitled10.ipynb",
      "provenance": [],
      "collapsed_sections": []
    },
    "kernelspec": {
      "name": "python3",
      "display_name": "Python 3"
    },
    "language_info": {
      "name": "python"
    }
  },
  "cells": [
    {
      "cell_type": "markdown",
      "source": [
        "### Import all libraries needed for the task"
      ],
      "metadata": {
        "id": "BMZeUTnFvOq4"
      }
    },
    {
      "cell_type": "code",
      "execution_count": 200,
      "metadata": {
        "id": "PbJqPVlkiQLl"
      },
      "outputs": [],
      "source": [
        "import spacy\n",
        "from spacy import displacy\n",
        "from spacy.pipeline import EntityRuler\n",
        "from spacy.lang.en import English\n",
        "from string import punctuation\n",
        "from spacy.matcher import Matcher \n",
        "from spacy.tokens import Span \n",
        "import networkx as nx\n",
        "import matplotlib.pyplot as plt\n",
        "import pandas as pd\n"
      ]
    },
    {
      "cell_type": "code",
      "source": [
        "#!python -m spacy download en_core_web_lg"
      ],
      "metadata": {
        "id": "Bh47dq5SjkUp"
      },
      "execution_count": 11,
      "outputs": []
    },
    {
      "cell_type": "markdown",
      "source": [
        "### Define a function to load data from text file"
      ],
      "metadata": {
        "id": "Z-09LOrQGM-x"
      }
    },
    {
      "cell_type": "code",
      "source": [
        "def load_data(file):\n",
        "  with open(file, encoding=\"utf8\") as f:\n",
        "    data = f.read()\n",
        "\n",
        "  return data"
      ],
      "metadata": {
        "id": "VXR5HfOIiU5P"
      },
      "execution_count": 201,
      "outputs": []
    },
    {
      "cell_type": "markdown",
      "source": [
        "### use the load_data function to read the content of 'sentences.txt'"
      ],
      "metadata": {
        "id": "Xht9UzxvGTzx"
      }
    },
    {
      "cell_type": "code",
      "source": [
        "file=\"/content/sentences.txt\"\n",
        "data=load_data(file)"
      ],
      "metadata": {
        "id": "0kYBxSrDiXd8"
      },
      "execution_count": 202,
      "outputs": []
    },
    {
      "cell_type": "markdown",
      "source": [
        "### replace SNEU with Scotland North East University in the data"
      ],
      "metadata": {
        "id": "863sBsLQGf_L"
      }
    },
    {
      "cell_type": "code",
      "source": [
        "data=data.replace(\"(SNEU)\",\"\").replace(\"SNEU\",\"Scotland North East University\")"
      ],
      "metadata": {
        "id": "u0ptRUD_oo1A"
      },
      "execution_count": 203,
      "outputs": []
    },
    {
      "cell_type": "markdown",
      "source": [
        "### preview the imported data/text"
      ],
      "metadata": {
        "id": "OjkMeZCdGwgQ"
      }
    },
    {
      "cell_type": "code",
      "source": [
        "data"
      ],
      "metadata": {
        "colab": {
          "base_uri": "https://localhost:8080/",
          "height": 105
        },
        "id": "aeCuTNS9E4kT",
        "outputId": "b6cc4fb6-a22e-4096-8a0e-2808a6fb01c0"
      },
      "execution_count": 204,
      "outputs": [
        {
          "output_type": "execute_result",
          "data": {
            "text/plain": [
              "'Callum is a lecturer working at Scotland North East University . His research focus is primarily in the field of machine learning. As a result, Callum has published papers describing new techniques applied to Convolutional Neural Networks (CNNs), including “Convolutions and Where to Find Them” and “MinPooling: An Alternative to MaxPooling”. He is most proud of “Counting Cells: A CNN Case study”, which won a Best Paper award at an international conference. This paper described Callum’s collaboration with a research group in digital health on the project “CellCount”, which he has continued to work on since then. \\nKen is a research assistant in the Sentiment Analysis Research Group (RG) in Scotland North East University. He was contracted for a large EU project called “Analytics of Reddit posts”. However, that was two years ago and he has recently been made a permanent member of staff. As a research assistant, Ken has had the opportunity to collaborate with many research groups, including the Machine Learning RG and the Digital Health RG. To date, Ken has only published a single paper – “MinPooling: An Alternative to MaxPooling”, where he performed the experiments under the guidance of Callum. Jodie believes that Ken is probably ready to work on his own PhD, and has allocated him a project called “Using Emojis to Understand FaceBook Posts” with that in mind. \\nJodie is the professor leading the Machine Learning RG in Scotland North East University. She has been working in Machine Learning for almost 25 years and has published more than 100 papers. She is responsible for obtaining funding for most of the projects the group has worked on, including “CellCount” and “Analysis of Reddit posts” (as a collaboration with the Sentiment Analysis RG). She is a mentor to Callum, and has contributed to most of his papers, including “Convolutions and Where to Find Them” and “MinPooling: An Alternative to MaxPooling”. However, she was very proud of his achievements in the “CellCount” project as she did not contribute to the produced paper and he still did very well. Jodie is currently drafting a funding proposal aiming to build on current standards in RegTech to improve international financial transactions. The project is called “SafeTransfer”.\\n'"
            ],
            "application/vnd.google.colaboratory.intrinsic+json": {
              "type": "string"
            }
          },
          "metadata": {},
          "execution_count": 204
        }
      ]
    },
    {
      "cell_type": "markdown",
      "source": [
        "### Define a function which will be used to apply custom rules to the 'en_core_web_lg' and use it for the NER"
      ],
      "metadata": {
        "id": "w-IFaCpxG797"
      }
    },
    {
      "cell_type": "code",
      "source": [
        "def generate_rules(patterns):\n",
        "  nlp = spacy.load(\"en_core_web_lg\")\n",
        "  ruler=nlp.add_pipe('entity_ruler', before='ner')\n",
        "  ruler.add_patterns(patterns) \n",
        "  nlp.to_disk(\"custom_model\")\n"
      ],
      "metadata": {
        "id": "YRpNy5mkibQn"
      },
      "execution_count": 205,
      "outputs": []
    },
    {
      "cell_type": "markdown",
      "source": [
        "### Define Rules for the custom model"
      ],
      "metadata": {
        "id": "gMC8JpgJHTKh"
      }
    },
    {
      "cell_type": "code",
      "source": [
        "patterns = [    {\"label\": \"DEPT\", \"pattern\": \"the Sentiment Analysis Research Group, RG\"},\n",
        "                {\"label\": \"ORG\", \"pattern\": \"SNEU\"},\n",
        "                {\"label\": \"ORG\", \"pattern\": \"Scotland North East University\"},\n",
        "            {\"label\": \"ORG\", \"pattern\": \"Scotland North East University (SNEU)\"}]"
      ],
      "metadata": {
        "id": "oQN6PE8nigQz"
      },
      "execution_count": 206,
      "outputs": []
    },
    {
      "cell_type": "markdown",
      "source": [
        "### Apply the generate_rules function to the patterns specified"
      ],
      "metadata": {
        "id": "viCS0-uVHdB3"
      }
    },
    {
      "cell_type": "code",
      "source": [
        "generate_rules(patterns)"
      ],
      "metadata": {
        "id": "1wuceZDiijed"
      },
      "execution_count": 207,
      "outputs": []
    },
    {
      "cell_type": "markdown",
      "source": [
        "### load the custom model"
      ],
      "metadata": {
        "id": "EF12iGUHHri4"
      }
    },
    {
      "cell_type": "code",
      "source": [
        "nlp =spacy.load(\"custom_model\")"
      ],
      "metadata": {
        "id": "ouRrsnUJi6Sn"
      },
      "execution_count": 208,
      "outputs": []
    },
    {
      "cell_type": "markdown",
      "source": [
        "### Fit the imported text data into the loaded model"
      ],
      "metadata": {
        "id": "pcc5H-GzH1M_"
      }
    },
    {
      "cell_type": "code",
      "source": [
        "doc = nlp(data)"
      ],
      "metadata": {
        "id": "ycX4WnxJjAfr"
      },
      "execution_count": 209,
      "outputs": []
    },
    {
      "cell_type": "markdown",
      "source": [
        "### Use displacy from spacy to preview the entities identified"
      ],
      "metadata": {
        "id": "WknTHulmIB0S"
      }
    },
    {
      "cell_type": "code",
      "source": [
        "displacy.render(doc, style=\"ent\", jupyter=True)\n"
      ],
      "metadata": {
        "colab": {
          "base_uri": "https://localhost:8080/",
          "height": 422
        },
        "id": "cWVWJz55jC8M",
        "outputId": "3e3ca4cd-47f6-42f3-e366-c8f7d0c3ca89"
      },
      "execution_count": 210,
      "outputs": [
        {
          "output_type": "display_data",
          "data": {
            "text/plain": [
              "<IPython.core.display.HTML object>"
            ],
            "text/html": [
              "<span class=\"tex2jax_ignore\"><div class=\"entities\" style=\"line-height: 2.5; direction: ltr\">\n",
              "<mark class=\"entity\" style=\"background: #aa9cfc; padding: 0.45em 0.6em; margin: 0 0.25em; line-height: 1; border-radius: 0.35em;\">\n",
              "    Callum\n",
              "    <span style=\"font-size: 0.8em; font-weight: bold; line-height: 1; border-radius: 0.35em; vertical-align: middle; margin-left: 0.5rem\">PERSON</span>\n",
              "</mark>\n",
              " is a lecturer working at \n",
              "<mark class=\"entity\" style=\"background: #7aecec; padding: 0.45em 0.6em; margin: 0 0.25em; line-height: 1; border-radius: 0.35em;\">\n",
              "    Scotland North East University\n",
              "    <span style=\"font-size: 0.8em; font-weight: bold; line-height: 1; border-radius: 0.35em; vertical-align: middle; margin-left: 0.5rem\">ORG</span>\n",
              "</mark>\n",
              " . His research focus is primarily in the field of machine learning. As a result, \n",
              "<mark class=\"entity\" style=\"background: #aa9cfc; padding: 0.45em 0.6em; margin: 0 0.25em; line-height: 1; border-radius: 0.35em;\">\n",
              "    Callum\n",
              "    <span style=\"font-size: 0.8em; font-weight: bold; line-height: 1; border-radius: 0.35em; vertical-align: middle; margin-left: 0.5rem\">PERSON</span>\n",
              "</mark>\n",
              " has published papers describing new techniques applied to \n",
              "<mark class=\"entity\" style=\"background: #7aecec; padding: 0.45em 0.6em; margin: 0 0.25em; line-height: 1; border-radius: 0.35em;\">\n",
              "    Convolutional Neural Networks\n",
              "    <span style=\"font-size: 0.8em; font-weight: bold; line-height: 1; border-radius: 0.35em; vertical-align: middle; margin-left: 0.5rem\">ORG</span>\n",
              "</mark>\n",
              " (CNNs), including “\n",
              "<mark class=\"entity\" style=\"background: #f0d0ff; padding: 0.45em 0.6em; margin: 0 0.25em; line-height: 1; border-radius: 0.35em;\">\n",
              "    Convolutions and Where to Find Them\n",
              "    <span style=\"font-size: 0.8em; font-weight: bold; line-height: 1; border-radius: 0.35em; vertical-align: middle; margin-left: 0.5rem\">WORK_OF_ART</span>\n",
              "</mark>\n",
              "” and “\n",
              "<mark class=\"entity\" style=\"background: #f0d0ff; padding: 0.45em 0.6em; margin: 0 0.25em; line-height: 1; border-radius: 0.35em;\">\n",
              "    MinPooling: An Alternative to MaxPooling\n",
              "    <span style=\"font-size: 0.8em; font-weight: bold; line-height: 1; border-radius: 0.35em; vertical-align: middle; margin-left: 0.5rem\">WORK_OF_ART</span>\n",
              "</mark>\n",
              "”. He is most proud of “\n",
              "<mark class=\"entity\" style=\"background: #f0d0ff; padding: 0.45em 0.6em; margin: 0 0.25em; line-height: 1; border-radius: 0.35em;\">\n",
              "    Counting Cells:\n",
              "    <span style=\"font-size: 0.8em; font-weight: bold; line-height: 1; border-radius: 0.35em; vertical-align: middle; margin-left: 0.5rem\">WORK_OF_ART</span>\n",
              "</mark>\n",
              " A CNN Case study”, which won a Best Paper award at an international conference. This paper described \n",
              "<mark class=\"entity\" style=\"background: #aa9cfc; padding: 0.45em 0.6em; margin: 0 0.25em; line-height: 1; border-radius: 0.35em;\">\n",
              "    Callum\n",
              "    <span style=\"font-size: 0.8em; font-weight: bold; line-height: 1; border-radius: 0.35em; vertical-align: middle; margin-left: 0.5rem\">PERSON</span>\n",
              "</mark>\n",
              "’s collaboration with a research group in digital health on the project “\n",
              "<mark class=\"entity\" style=\"background: #bfeeb7; padding: 0.45em 0.6em; margin: 0 0.25em; line-height: 1; border-radius: 0.35em;\">\n",
              "    CellCount\n",
              "    <span style=\"font-size: 0.8em; font-weight: bold; line-height: 1; border-radius: 0.35em; vertical-align: middle; margin-left: 0.5rem\">PRODUCT</span>\n",
              "</mark>\n",
              "”, which he has continued to work on since then. </br>\n",
              "<mark class=\"entity\" style=\"background: #aa9cfc; padding: 0.45em 0.6em; margin: 0 0.25em; line-height: 1; border-radius: 0.35em;\">\n",
              "    Ken\n",
              "    <span style=\"font-size: 0.8em; font-weight: bold; line-height: 1; border-radius: 0.35em; vertical-align: middle; margin-left: 0.5rem\">PERSON</span>\n",
              "</mark>\n",
              " is a research assistant in \n",
              "<mark class=\"entity\" style=\"background: #7aecec; padding: 0.45em 0.6em; margin: 0 0.25em; line-height: 1; border-radius: 0.35em;\">\n",
              "    the Sentiment Analysis Research Group\n",
              "    <span style=\"font-size: 0.8em; font-weight: bold; line-height: 1; border-radius: 0.35em; vertical-align: middle; margin-left: 0.5rem\">ORG</span>\n",
              "</mark>\n",
              " (\n",
              "<mark class=\"entity\" style=\"background: #7aecec; padding: 0.45em 0.6em; margin: 0 0.25em; line-height: 1; border-radius: 0.35em;\">\n",
              "    RG\n",
              "    <span style=\"font-size: 0.8em; font-weight: bold; line-height: 1; border-radius: 0.35em; vertical-align: middle; margin-left: 0.5rem\">ORG</span>\n",
              "</mark>\n",
              ") in \n",
              "<mark class=\"entity\" style=\"background: #7aecec; padding: 0.45em 0.6em; margin: 0 0.25em; line-height: 1; border-radius: 0.35em;\">\n",
              "    Scotland North East University\n",
              "    <span style=\"font-size: 0.8em; font-weight: bold; line-height: 1; border-radius: 0.35em; vertical-align: middle; margin-left: 0.5rem\">ORG</span>\n",
              "</mark>\n",
              ". He was contracted for a large \n",
              "<mark class=\"entity\" style=\"background: #7aecec; padding: 0.45em 0.6em; margin: 0 0.25em; line-height: 1; border-radius: 0.35em;\">\n",
              "    EU\n",
              "    <span style=\"font-size: 0.8em; font-weight: bold; line-height: 1; border-radius: 0.35em; vertical-align: middle; margin-left: 0.5rem\">ORG</span>\n",
              "</mark>\n",
              " project called “Analytics of Reddit posts”. However, that was \n",
              "<mark class=\"entity\" style=\"background: #bfe1d9; padding: 0.45em 0.6em; margin: 0 0.25em; line-height: 1; border-radius: 0.35em;\">\n",
              "    two years ago\n",
              "    <span style=\"font-size: 0.8em; font-weight: bold; line-height: 1; border-radius: 0.35em; vertical-align: middle; margin-left: 0.5rem\">DATE</span>\n",
              "</mark>\n",
              " and he has recently been made a permanent member of staff. As a research assistant, \n",
              "<mark class=\"entity\" style=\"background: #aa9cfc; padding: 0.45em 0.6em; margin: 0 0.25em; line-height: 1; border-radius: 0.35em;\">\n",
              "    Ken\n",
              "    <span style=\"font-size: 0.8em; font-weight: bold; line-height: 1; border-radius: 0.35em; vertical-align: middle; margin-left: 0.5rem\">PERSON</span>\n",
              "</mark>\n",
              " has had the opportunity to collaborate with many research groups, including \n",
              "<mark class=\"entity\" style=\"background: #7aecec; padding: 0.45em 0.6em; margin: 0 0.25em; line-height: 1; border-radius: 0.35em;\">\n",
              "    the Machine Learning RG\n",
              "    <span style=\"font-size: 0.8em; font-weight: bold; line-height: 1; border-radius: 0.35em; vertical-align: middle; margin-left: 0.5rem\">ORG</span>\n",
              "</mark>\n",
              " and the \n",
              "<mark class=\"entity\" style=\"background: #7aecec; padding: 0.45em 0.6em; margin: 0 0.25em; line-height: 1; border-radius: 0.35em;\">\n",
              "    Digital Health RG\n",
              "    <span style=\"font-size: 0.8em; font-weight: bold; line-height: 1; border-radius: 0.35em; vertical-align: middle; margin-left: 0.5rem\">ORG</span>\n",
              "</mark>\n",
              ". To date, \n",
              "<mark class=\"entity\" style=\"background: #aa9cfc; padding: 0.45em 0.6em; margin: 0 0.25em; line-height: 1; border-radius: 0.35em;\">\n",
              "    Ken\n",
              "    <span style=\"font-size: 0.8em; font-weight: bold; line-height: 1; border-radius: 0.35em; vertical-align: middle; margin-left: 0.5rem\">PERSON</span>\n",
              "</mark>\n",
              " has only published a single paper – “\n",
              "<mark class=\"entity\" style=\"background: #f0d0ff; padding: 0.45em 0.6em; margin: 0 0.25em; line-height: 1; border-radius: 0.35em;\">\n",
              "    MinPooling: An Alternative to MaxPooling\n",
              "    <span style=\"font-size: 0.8em; font-weight: bold; line-height: 1; border-radius: 0.35em; vertical-align: middle; margin-left: 0.5rem\">WORK_OF_ART</span>\n",
              "</mark>\n",
              "”, where he performed the experiments under the guidance of \n",
              "<mark class=\"entity\" style=\"background: #7aecec; padding: 0.45em 0.6em; margin: 0 0.25em; line-height: 1; border-radius: 0.35em;\">\n",
              "    Callum\n",
              "    <span style=\"font-size: 0.8em; font-weight: bold; line-height: 1; border-radius: 0.35em; vertical-align: middle; margin-left: 0.5rem\">ORG</span>\n",
              "</mark>\n",
              ". \n",
              "<mark class=\"entity\" style=\"background: #aa9cfc; padding: 0.45em 0.6em; margin: 0 0.25em; line-height: 1; border-radius: 0.35em;\">\n",
              "    Jodie\n",
              "    <span style=\"font-size: 0.8em; font-weight: bold; line-height: 1; border-radius: 0.35em; vertical-align: middle; margin-left: 0.5rem\">PERSON</span>\n",
              "</mark>\n",
              " believes that \n",
              "<mark class=\"entity\" style=\"background: #aa9cfc; padding: 0.45em 0.6em; margin: 0 0.25em; line-height: 1; border-radius: 0.35em;\">\n",
              "    Ken\n",
              "    <span style=\"font-size: 0.8em; font-weight: bold; line-height: 1; border-radius: 0.35em; vertical-align: middle; margin-left: 0.5rem\">PERSON</span>\n",
              "</mark>\n",
              " is probably ready to work on his own \n",
              "<mark class=\"entity\" style=\"background: #f0d0ff; padding: 0.45em 0.6em; margin: 0 0.25em; line-height: 1; border-radius: 0.35em;\">\n",
              "    PhD\n",
              "    <span style=\"font-size: 0.8em; font-weight: bold; line-height: 1; border-radius: 0.35em; vertical-align: middle; margin-left: 0.5rem\">WORK_OF_ART</span>\n",
              "</mark>\n",
              ", and has allocated him a project called “Using Emojis to Understand FaceBook Posts” with that in mind. </br>\n",
              "<mark class=\"entity\" style=\"background: #aa9cfc; padding: 0.45em 0.6em; margin: 0 0.25em; line-height: 1; border-radius: 0.35em;\">\n",
              "    Jodie\n",
              "    <span style=\"font-size: 0.8em; font-weight: bold; line-height: 1; border-radius: 0.35em; vertical-align: middle; margin-left: 0.5rem\">PERSON</span>\n",
              "</mark>\n",
              " is the professor leading \n",
              "<mark class=\"entity\" style=\"background: #7aecec; padding: 0.45em 0.6em; margin: 0 0.25em; line-height: 1; border-radius: 0.35em;\">\n",
              "    the Machine Learning RG\n",
              "    <span style=\"font-size: 0.8em; font-weight: bold; line-height: 1; border-radius: 0.35em; vertical-align: middle; margin-left: 0.5rem\">ORG</span>\n",
              "</mark>\n",
              " in \n",
              "<mark class=\"entity\" style=\"background: #7aecec; padding: 0.45em 0.6em; margin: 0 0.25em; line-height: 1; border-radius: 0.35em;\">\n",
              "    Scotland North East University\n",
              "    <span style=\"font-size: 0.8em; font-weight: bold; line-height: 1; border-radius: 0.35em; vertical-align: middle; margin-left: 0.5rem\">ORG</span>\n",
              "</mark>\n",
              ". She has been working in \n",
              "<mark class=\"entity\" style=\"background: #7aecec; padding: 0.45em 0.6em; margin: 0 0.25em; line-height: 1; border-radius: 0.35em;\">\n",
              "    Machine Learning\n",
              "    <span style=\"font-size: 0.8em; font-weight: bold; line-height: 1; border-radius: 0.35em; vertical-align: middle; margin-left: 0.5rem\">ORG</span>\n",
              "</mark>\n",
              " for \n",
              "<mark class=\"entity\" style=\"background: #bfe1d9; padding: 0.45em 0.6em; margin: 0 0.25em; line-height: 1; border-radius: 0.35em;\">\n",
              "    almost 25 years\n",
              "    <span style=\"font-size: 0.8em; font-weight: bold; line-height: 1; border-radius: 0.35em; vertical-align: middle; margin-left: 0.5rem\">DATE</span>\n",
              "</mark>\n",
              " and has published \n",
              "<mark class=\"entity\" style=\"background: #e4e7d2; padding: 0.45em 0.6em; margin: 0 0.25em; line-height: 1; border-radius: 0.35em;\">\n",
              "    more than 100\n",
              "    <span style=\"font-size: 0.8em; font-weight: bold; line-height: 1; border-radius: 0.35em; vertical-align: middle; margin-left: 0.5rem\">CARDINAL</span>\n",
              "</mark>\n",
              " papers. She is responsible for obtaining funding for most of the projects the group has worked on, including “\n",
              "<mark class=\"entity\" style=\"background: #bfeeb7; padding: 0.45em 0.6em; margin: 0 0.25em; line-height: 1; border-radius: 0.35em;\">\n",
              "    CellCount\n",
              "    <span style=\"font-size: 0.8em; font-weight: bold; line-height: 1; border-radius: 0.35em; vertical-align: middle; margin-left: 0.5rem\">PRODUCT</span>\n",
              "</mark>\n",
              "” and “Analysis of Reddit posts” (as a collaboration with \n",
              "<mark class=\"entity\" style=\"background: #ff8197; padding: 0.45em 0.6em; margin: 0 0.25em; line-height: 1; border-radius: 0.35em;\">\n",
              "    the Sentiment Analysis RG\n",
              "    <span style=\"font-size: 0.8em; font-weight: bold; line-height: 1; border-radius: 0.35em; vertical-align: middle; margin-left: 0.5rem\">LAW</span>\n",
              "</mark>\n",
              "). She is a mentor to \n",
              "<mark class=\"entity\" style=\"background: #aa9cfc; padding: 0.45em 0.6em; margin: 0 0.25em; line-height: 1; border-radius: 0.35em;\">\n",
              "    Callum\n",
              "    <span style=\"font-size: 0.8em; font-weight: bold; line-height: 1; border-radius: 0.35em; vertical-align: middle; margin-left: 0.5rem\">PERSON</span>\n",
              "</mark>\n",
              ", and has contributed to most of his papers, including “\n",
              "<mark class=\"entity\" style=\"background: #f0d0ff; padding: 0.45em 0.6em; margin: 0 0.25em; line-height: 1; border-radius: 0.35em;\">\n",
              "    Convolutions and Where to Find Them\n",
              "    <span style=\"font-size: 0.8em; font-weight: bold; line-height: 1; border-radius: 0.35em; vertical-align: middle; margin-left: 0.5rem\">WORK_OF_ART</span>\n",
              "</mark>\n",
              "” and “\n",
              "<mark class=\"entity\" style=\"background: #f0d0ff; padding: 0.45em 0.6em; margin: 0 0.25em; line-height: 1; border-radius: 0.35em;\">\n",
              "    MinPooling: An Alternative to MaxPooling\n",
              "    <span style=\"font-size: 0.8em; font-weight: bold; line-height: 1; border-radius: 0.35em; vertical-align: middle; margin-left: 0.5rem\">WORK_OF_ART</span>\n",
              "</mark>\n",
              "”. However, she was very proud of his achievements in the “\n",
              "<mark class=\"entity\" style=\"background: #bfeeb7; padding: 0.45em 0.6em; margin: 0 0.25em; line-height: 1; border-radius: 0.35em;\">\n",
              "    CellCount\n",
              "    <span style=\"font-size: 0.8em; font-weight: bold; line-height: 1; border-radius: 0.35em; vertical-align: middle; margin-left: 0.5rem\">PRODUCT</span>\n",
              "</mark>\n",
              "” project as she did not contribute to the produced paper and he still did very well. \n",
              "<mark class=\"entity\" style=\"background: #aa9cfc; padding: 0.45em 0.6em; margin: 0 0.25em; line-height: 1; border-radius: 0.35em;\">\n",
              "    Jodie\n",
              "    <span style=\"font-size: 0.8em; font-weight: bold; line-height: 1; border-radius: 0.35em; vertical-align: middle; margin-left: 0.5rem\">PERSON</span>\n",
              "</mark>\n",
              " is currently drafting a funding proposal aiming to build on current standards in \n",
              "<mark class=\"entity\" style=\"background: #7aecec; padding: 0.45em 0.6em; margin: 0 0.25em; line-height: 1; border-radius: 0.35em;\">\n",
              "    RegTech\n",
              "    <span style=\"font-size: 0.8em; font-weight: bold; line-height: 1; border-radius: 0.35em; vertical-align: middle; margin-left: 0.5rem\">ORG</span>\n",
              "</mark>\n",
              " to improve international financial transactions. The project is called “\n",
              "<mark class=\"entity\" style=\"background: #f0d0ff; padding: 0.45em 0.6em; margin: 0 0.25em; line-height: 1; border-radius: 0.35em;\">\n",
              "    SafeTransfer\n",
              "    <span style=\"font-size: 0.8em; font-weight: bold; line-height: 1; border-radius: 0.35em; vertical-align: middle; margin-left: 0.5rem\">WORK_OF_ART</span>\n",
              "</mark>\n",
              "”.</br></div></span>"
            ]
          },
          "metadata": {}
        }
      ]
    },
    {
      "cell_type": "markdown",
      "source": [
        "### Define a function to extract the relationships between entities. This function works be first looking for the ROOT dependency. If the sentence has a ROOT dependency, it will go on to check if the ROOT is followed by an dobj. it will check till all the conditions in the specified rule are met. But if the matcher does not find the root dependency, it will go on to check whether the next item in the rule is available until all the conditions are checked"
      ],
      "metadata": {
        "id": "fiVq4iI-HLlp"
      }
    },
    {
      "cell_type": "code",
      "source": [
        "def extract_relation(doc):\n",
        "\n",
        "  # Matcher object \n",
        "  matcher = Matcher(nlp.vocab)\n",
        "\n",
        "  #define the rule for the matcher \n",
        "  pattern = [ \n",
        "            {'DEP':'ROOT'}, \n",
        "            {'DEP':'dobj','OP':\"?\"},\n",
        "            {'DEP':'det','OP':\"?\"},\n",
        "            {'DEP':'compound','OP':\"?\"},\n",
        "            {'DEP':'attr','OP':\"?\"},\n",
        "            {'DEP':'prep','OP':\"?\"},\n",
        "            {'DEP':'agent','OP':\"?\"},  \n",
        "            {'POS':'ADJ','OP':\"?\"}] \n",
        "\n",
        "#add the defined rule to the matcher\n",
        "  matcher.add(\"matching_1\",[pattern]) \n",
        "\n",
        "  matches = matcher(doc)\n",
        "  k = len(matches) - 1\n",
        "\n",
        "  relation = doc[matches[k][1]:matches[k][2]] \n",
        "\n",
        "  return(relation.text)"
      ],
      "metadata": {
        "id": "GRChKPwC1A9D"
      },
      "execution_count": 211,
      "outputs": []
    },
    {
      "cell_type": "markdown",
      "source": [
        "### Define a function to extract all entities"
      ],
      "metadata": {
        "id": "V0fpfqrcIMu3"
      }
    },
    {
      "cell_type": "code",
      "source": [
        "def generate_entities_relation(sentences):\n",
        "  ent_=[]\n",
        "  relation_=[]\n",
        "  for sentence in sentences:\n",
        "    docw = nlp(str(sentence))\n",
        "    ent=[]\n",
        "    #relation=[]\n",
        "    allow=False\n",
        "    allowp=False\n",
        "    for val in docw.ents:\n",
        "        ent.append(val.text)\n",
        "        if val.label_=='PERSON':\n",
        "          allowp=True\n",
        "    relation=extract_relation(docw)\n",
        "    if relation:\n",
        "      allow=True\n",
        "\n",
        "    if allow and allowp:\n",
        "      relation_.append(relation)\n",
        "      ent_.append(ent)\n",
        "      print(ent,relation)\n",
        "\n",
        "    allow=False\n",
        "\n",
        "\n",
        "  return ent_,relation_"
      ],
      "metadata": {
        "id": "5FaiwIy4Rbuf"
      },
      "execution_count": 212,
      "outputs": []
    },
    {
      "cell_type": "markdown",
      "source": [
        "### Make a list of all the sentences in doc"
      ],
      "metadata": {
        "id": "HRefcRMSSUim"
      }
    },
    {
      "cell_type": "code",
      "source": [
        "sentences = list(doc.sents)"
      ],
      "metadata": {
        "id": "YG4NT1bWRlpY"
      },
      "execution_count": 213,
      "outputs": []
    },
    {
      "cell_type": "markdown",
      "source": [
        "### use the generate entites function to extract all entities and relations from sentences"
      ],
      "metadata": {
        "id": "9DGdamYLSb3d"
      }
    },
    {
      "cell_type": "code",
      "source": [
        "ent_,relation_=generate_entities_relation(sentences)"
      ],
      "metadata": {
        "colab": {
          "base_uri": "https://localhost:8080/"
        },
        "id": "zwXbab_USMzr",
        "outputId": "2010de53-cf16-4470-99e9-a4b6c84612a3"
      },
      "execution_count": 214,
      "outputs": [
        {
          "output_type": "stream",
          "name": "stdout",
          "text": [
            "['Callum', 'Scotland North East University'] is a lecturer\n",
            "['Callum', 'Convolutional Neural Networks', 'Convolutions and Where to Find Them', 'MinPooling: An Alternative to MaxPooling'] published papers\n",
            "['Callum', 'CellCount'] described\n",
            "['Ken', 'the Sentiment Analysis Research Group', 'RG', 'Scotland North East University'] is a research assistant in\n",
            "['Ken', 'the Machine Learning RG', 'Digital Health RG'] had the\n",
            "['Ken', 'MinPooling: An Alternative to MaxPooling', 'Callum'] published a single\n",
            "['Jodie', 'Ken', 'PhD'] believes\n",
            "['Jodie', 'the Machine Learning RG', 'Scotland North East University'] is the professor\n",
            "['Callum', 'Convolutions and Where to Find Them', 'MinPooling: An Alternative to MaxPooling'] is a mentor to\n",
            "['Jodie', 'RegTech'] drafting a funding\n"
          ]
        }
      ]
    },
    {
      "cell_type": "code",
      "source": [
        "len(relation_),len(ent_)"
      ],
      "metadata": {
        "colab": {
          "base_uri": "https://localhost:8080/"
        },
        "id": "UMwi-GNQ2tsv",
        "outputId": "332a95e7-a0ab-48ae-ea61-107eee827321"
      },
      "execution_count": 215,
      "outputs": [
        {
          "output_type": "execute_result",
          "data": {
            "text/plain": [
              "(10, 10)"
            ]
          },
          "metadata": {},
          "execution_count": 215
        }
      ]
    },
    {
      "cell_type": "markdown",
      "source": [
        "### Define a function to convert the extracted entities and relationships into a dataframe"
      ],
      "metadata": {
        "id": "JUz4b_o8IWQt"
      }
    },
    {
      "cell_type": "code",
      "source": [
        "def convert_to_df(ent_,relation_):\n",
        "  my_dict = {\"source\":[],\"target\":[],\"edge\":[]};\n",
        "  for n in range(len(ent_)):\n",
        "    source=ent_[n][0]\n",
        "    relation=relation_[n]\n",
        "    for m in range(1,len(ent_[n])):\n",
        "      target=ent_[n][m]\n",
        "      my_dict['source'].append(source)\n",
        "      my_dict['target'].append(target)\n",
        "      my_dict['edge'].append(relation)\n",
        "  df = pd.DataFrame(my_dict)\n",
        "  return df\n",
        "\n",
        "\n",
        "\n"
      ],
      "metadata": {
        "id": "hj_SiMZJImAc"
      },
      "execution_count": 216,
      "outputs": []
    },
    {
      "cell_type": "markdown",
      "source": [
        "### Used the convert_to_df function to convert all entities and relationships into a dataframe \"knowledge_graph_df\""
      ],
      "metadata": {
        "id": "DSq89Nq7KPoC"
      }
    },
    {
      "cell_type": "code",
      "source": [
        "knowledge_graph_df=convert_to_df(ent_,relation_)"
      ],
      "metadata": {
        "id": "hboNsq7xJ6Rb"
      },
      "execution_count": 217,
      "outputs": []
    },
    {
      "cell_type": "markdown",
      "source": [
        "### Preview the Content in the created df"
      ],
      "metadata": {
        "id": "35HgJecbKiSr"
      }
    },
    {
      "cell_type": "code",
      "source": [
        "knowledge_graph_df"
      ],
      "metadata": {
        "colab": {
          "base_uri": "https://localhost:8080/",
          "height": 518
        },
        "id": "wkpBwZ2UKHPk",
        "outputId": "efc54a76-1f30-4289-c543-bccd6f46b9a4"
      },
      "execution_count": 218,
      "outputs": [
        {
          "output_type": "execute_result",
          "data": {
            "text/plain": [
              "    source                                    target  \\\n",
              "0   Callum            Scotland North East University   \n",
              "1   Callum             Convolutional Neural Networks   \n",
              "2   Callum       Convolutions and Where to Find Them   \n",
              "3   Callum  MinPooling: An Alternative to MaxPooling   \n",
              "4   Callum                                 CellCount   \n",
              "5      Ken     the Sentiment Analysis Research Group   \n",
              "6      Ken                                        RG   \n",
              "7      Ken            Scotland North East University   \n",
              "8      Ken                   the Machine Learning RG   \n",
              "9      Ken                         Digital Health RG   \n",
              "10     Ken  MinPooling: An Alternative to MaxPooling   \n",
              "11     Ken                                    Callum   \n",
              "12   Jodie                                       Ken   \n",
              "13   Jodie                                       PhD   \n",
              "14   Jodie                   the Machine Learning RG   \n",
              "15   Jodie            Scotland North East University   \n",
              "16  Callum       Convolutions and Where to Find Them   \n",
              "17  Callum  MinPooling: An Alternative to MaxPooling   \n",
              "18   Jodie                                   RegTech   \n",
              "\n",
              "                          edge  \n",
              "0                is a lecturer  \n",
              "1             published papers  \n",
              "2             published papers  \n",
              "3             published papers  \n",
              "4                    described  \n",
              "5   is a research assistant in  \n",
              "6   is a research assistant in  \n",
              "7   is a research assistant in  \n",
              "8                      had the  \n",
              "9                      had the  \n",
              "10          published a single  \n",
              "11          published a single  \n",
              "12                    believes  \n",
              "13                    believes  \n",
              "14            is the professor  \n",
              "15            is the professor  \n",
              "16              is a mentor to  \n",
              "17              is a mentor to  \n",
              "18          drafting a funding  "
            ],
            "text/html": [
              "\n",
              "  <div id=\"df-332131f8-ca8b-4cba-a0f9-cca5a90595c0\">\n",
              "    <div class=\"colab-df-container\">\n",
              "      <div>\n",
              "<style scoped>\n",
              "    .dataframe tbody tr th:only-of-type {\n",
              "        vertical-align: middle;\n",
              "    }\n",
              "\n",
              "    .dataframe tbody tr th {\n",
              "        vertical-align: top;\n",
              "    }\n",
              "\n",
              "    .dataframe thead th {\n",
              "        text-align: right;\n",
              "    }\n",
              "</style>\n",
              "<table border=\"1\" class=\"dataframe\">\n",
              "  <thead>\n",
              "    <tr style=\"text-align: right;\">\n",
              "      <th></th>\n",
              "      <th>source</th>\n",
              "      <th>target</th>\n",
              "      <th>edge</th>\n",
              "    </tr>\n",
              "  </thead>\n",
              "  <tbody>\n",
              "    <tr>\n",
              "      <th>0</th>\n",
              "      <td>Callum</td>\n",
              "      <td>Scotland North East University</td>\n",
              "      <td>is a lecturer</td>\n",
              "    </tr>\n",
              "    <tr>\n",
              "      <th>1</th>\n",
              "      <td>Callum</td>\n",
              "      <td>Convolutional Neural Networks</td>\n",
              "      <td>published papers</td>\n",
              "    </tr>\n",
              "    <tr>\n",
              "      <th>2</th>\n",
              "      <td>Callum</td>\n",
              "      <td>Convolutions and Where to Find Them</td>\n",
              "      <td>published papers</td>\n",
              "    </tr>\n",
              "    <tr>\n",
              "      <th>3</th>\n",
              "      <td>Callum</td>\n",
              "      <td>MinPooling: An Alternative to MaxPooling</td>\n",
              "      <td>published papers</td>\n",
              "    </tr>\n",
              "    <tr>\n",
              "      <th>4</th>\n",
              "      <td>Callum</td>\n",
              "      <td>CellCount</td>\n",
              "      <td>described</td>\n",
              "    </tr>\n",
              "    <tr>\n",
              "      <th>5</th>\n",
              "      <td>Ken</td>\n",
              "      <td>the Sentiment Analysis Research Group</td>\n",
              "      <td>is a research assistant in</td>\n",
              "    </tr>\n",
              "    <tr>\n",
              "      <th>6</th>\n",
              "      <td>Ken</td>\n",
              "      <td>RG</td>\n",
              "      <td>is a research assistant in</td>\n",
              "    </tr>\n",
              "    <tr>\n",
              "      <th>7</th>\n",
              "      <td>Ken</td>\n",
              "      <td>Scotland North East University</td>\n",
              "      <td>is a research assistant in</td>\n",
              "    </tr>\n",
              "    <tr>\n",
              "      <th>8</th>\n",
              "      <td>Ken</td>\n",
              "      <td>the Machine Learning RG</td>\n",
              "      <td>had the</td>\n",
              "    </tr>\n",
              "    <tr>\n",
              "      <th>9</th>\n",
              "      <td>Ken</td>\n",
              "      <td>Digital Health RG</td>\n",
              "      <td>had the</td>\n",
              "    </tr>\n",
              "    <tr>\n",
              "      <th>10</th>\n",
              "      <td>Ken</td>\n",
              "      <td>MinPooling: An Alternative to MaxPooling</td>\n",
              "      <td>published a single</td>\n",
              "    </tr>\n",
              "    <tr>\n",
              "      <th>11</th>\n",
              "      <td>Ken</td>\n",
              "      <td>Callum</td>\n",
              "      <td>published a single</td>\n",
              "    </tr>\n",
              "    <tr>\n",
              "      <th>12</th>\n",
              "      <td>Jodie</td>\n",
              "      <td>Ken</td>\n",
              "      <td>believes</td>\n",
              "    </tr>\n",
              "    <tr>\n",
              "      <th>13</th>\n",
              "      <td>Jodie</td>\n",
              "      <td>PhD</td>\n",
              "      <td>believes</td>\n",
              "    </tr>\n",
              "    <tr>\n",
              "      <th>14</th>\n",
              "      <td>Jodie</td>\n",
              "      <td>the Machine Learning RG</td>\n",
              "      <td>is the professor</td>\n",
              "    </tr>\n",
              "    <tr>\n",
              "      <th>15</th>\n",
              "      <td>Jodie</td>\n",
              "      <td>Scotland North East University</td>\n",
              "      <td>is the professor</td>\n",
              "    </tr>\n",
              "    <tr>\n",
              "      <th>16</th>\n",
              "      <td>Callum</td>\n",
              "      <td>Convolutions and Where to Find Them</td>\n",
              "      <td>is a mentor to</td>\n",
              "    </tr>\n",
              "    <tr>\n",
              "      <th>17</th>\n",
              "      <td>Callum</td>\n",
              "      <td>MinPooling: An Alternative to MaxPooling</td>\n",
              "      <td>is a mentor to</td>\n",
              "    </tr>\n",
              "    <tr>\n",
              "      <th>18</th>\n",
              "      <td>Jodie</td>\n",
              "      <td>RegTech</td>\n",
              "      <td>drafting a funding</td>\n",
              "    </tr>\n",
              "  </tbody>\n",
              "</table>\n",
              "</div>\n",
              "      <button class=\"colab-df-convert\" onclick=\"convertToInteractive('df-332131f8-ca8b-4cba-a0f9-cca5a90595c0')\"\n",
              "              title=\"Convert this dataframe to an interactive table.\"\n",
              "              style=\"display:none;\">\n",
              "        \n",
              "  <svg xmlns=\"http://www.w3.org/2000/svg\" height=\"24px\"viewBox=\"0 0 24 24\"\n",
              "       width=\"24px\">\n",
              "    <path d=\"M0 0h24v24H0V0z\" fill=\"none\"/>\n",
              "    <path d=\"M18.56 5.44l.94 2.06.94-2.06 2.06-.94-2.06-.94-.94-2.06-.94 2.06-2.06.94zm-11 1L8.5 8.5l.94-2.06 2.06-.94-2.06-.94L8.5 2.5l-.94 2.06-2.06.94zm10 10l.94 2.06.94-2.06 2.06-.94-2.06-.94-.94-2.06-.94 2.06-2.06.94z\"/><path d=\"M17.41 7.96l-1.37-1.37c-.4-.4-.92-.59-1.43-.59-.52 0-1.04.2-1.43.59L10.3 9.45l-7.72 7.72c-.78.78-.78 2.05 0 2.83L4 21.41c.39.39.9.59 1.41.59.51 0 1.02-.2 1.41-.59l7.78-7.78 2.81-2.81c.8-.78.8-2.07 0-2.86zM5.41 20L4 18.59l7.72-7.72 1.47 1.35L5.41 20z\"/>\n",
              "  </svg>\n",
              "      </button>\n",
              "      \n",
              "  <style>\n",
              "    .colab-df-container {\n",
              "      display:flex;\n",
              "      flex-wrap:wrap;\n",
              "      gap: 12px;\n",
              "    }\n",
              "\n",
              "    .colab-df-convert {\n",
              "      background-color: #E8F0FE;\n",
              "      border: none;\n",
              "      border-radius: 50%;\n",
              "      cursor: pointer;\n",
              "      display: none;\n",
              "      fill: #1967D2;\n",
              "      height: 32px;\n",
              "      padding: 0 0 0 0;\n",
              "      width: 32px;\n",
              "    }\n",
              "\n",
              "    .colab-df-convert:hover {\n",
              "      background-color: #E2EBFA;\n",
              "      box-shadow: 0px 1px 2px rgba(60, 64, 67, 0.3), 0px 1px 3px 1px rgba(60, 64, 67, 0.15);\n",
              "      fill: #174EA6;\n",
              "    }\n",
              "\n",
              "    [theme=dark] .colab-df-convert {\n",
              "      background-color: #3B4455;\n",
              "      fill: #D2E3FC;\n",
              "    }\n",
              "\n",
              "    [theme=dark] .colab-df-convert:hover {\n",
              "      background-color: #434B5C;\n",
              "      box-shadow: 0px 1px 3px 1px rgba(0, 0, 0, 0.15);\n",
              "      filter: drop-shadow(0px 1px 2px rgba(0, 0, 0, 0.3));\n",
              "      fill: #FFFFFF;\n",
              "    }\n",
              "  </style>\n",
              "\n",
              "      <script>\n",
              "        const buttonEl =\n",
              "          document.querySelector('#df-332131f8-ca8b-4cba-a0f9-cca5a90595c0 button.colab-df-convert');\n",
              "        buttonEl.style.display =\n",
              "          google.colab.kernel.accessAllowed ? 'block' : 'none';\n",
              "\n",
              "        async function convertToInteractive(key) {\n",
              "          const element = document.querySelector('#df-332131f8-ca8b-4cba-a0f9-cca5a90595c0');\n",
              "          const dataTable =\n",
              "            await google.colab.kernel.invokeFunction('convertToInteractive',\n",
              "                                                     [key], {});\n",
              "          if (!dataTable) return;\n",
              "\n",
              "          const docLinkHtml = 'Like what you see? Visit the ' +\n",
              "            '<a target=\"_blank\" href=https://colab.research.google.com/notebooks/data_table.ipynb>data table notebook</a>'\n",
              "            + ' to learn more about interactive tables.';\n",
              "          element.innerHTML = '';\n",
              "          dataTable['output_type'] = 'display_data';\n",
              "          await google.colab.output.renderOutput(dataTable, element);\n",
              "          const docLink = document.createElement('div');\n",
              "          docLink.innerHTML = docLinkHtml;\n",
              "          element.appendChild(docLink);\n",
              "        }\n",
              "      </script>\n",
              "    </div>\n",
              "  </div>\n",
              "  "
            ]
          },
          "metadata": {},
          "execution_count": 218
        }
      ]
    },
    {
      "cell_type": "markdown",
      "source": [
        "### Check the statistical summary of the generated dataframe"
      ],
      "metadata": {
        "id": "-jjwhbuOKqxQ"
      }
    },
    {
      "cell_type": "code",
      "source": [
        "knowledge_graph_df.describe()"
      ],
      "metadata": {
        "colab": {
          "base_uri": "https://localhost:8080/",
          "height": 175
        },
        "id": "bIsX9FZQKJw8",
        "outputId": "f28d1015-6c7b-4442-980c-339ffbbf68f9"
      },
      "execution_count": 197,
      "outputs": [
        {
          "output_type": "execute_result",
          "data": {
            "text/plain": [
              "        source                          target              edge\n",
              "count       19                              19                19\n",
              "unique       3                              13                10\n",
              "top     Callum  Scotland North East University  published papers\n",
              "freq         7                               3                 3"
            ],
            "text/html": [
              "\n",
              "  <div id=\"df-5f564e86-9002-4e75-81d7-37d16bacc988\">\n",
              "    <div class=\"colab-df-container\">\n",
              "      <div>\n",
              "<style scoped>\n",
              "    .dataframe tbody tr th:only-of-type {\n",
              "        vertical-align: middle;\n",
              "    }\n",
              "\n",
              "    .dataframe tbody tr th {\n",
              "        vertical-align: top;\n",
              "    }\n",
              "\n",
              "    .dataframe thead th {\n",
              "        text-align: right;\n",
              "    }\n",
              "</style>\n",
              "<table border=\"1\" class=\"dataframe\">\n",
              "  <thead>\n",
              "    <tr style=\"text-align: right;\">\n",
              "      <th></th>\n",
              "      <th>source</th>\n",
              "      <th>target</th>\n",
              "      <th>edge</th>\n",
              "    </tr>\n",
              "  </thead>\n",
              "  <tbody>\n",
              "    <tr>\n",
              "      <th>count</th>\n",
              "      <td>19</td>\n",
              "      <td>19</td>\n",
              "      <td>19</td>\n",
              "    </tr>\n",
              "    <tr>\n",
              "      <th>unique</th>\n",
              "      <td>3</td>\n",
              "      <td>13</td>\n",
              "      <td>10</td>\n",
              "    </tr>\n",
              "    <tr>\n",
              "      <th>top</th>\n",
              "      <td>Callum</td>\n",
              "      <td>Scotland North East University</td>\n",
              "      <td>published papers</td>\n",
              "    </tr>\n",
              "    <tr>\n",
              "      <th>freq</th>\n",
              "      <td>7</td>\n",
              "      <td>3</td>\n",
              "      <td>3</td>\n",
              "    </tr>\n",
              "  </tbody>\n",
              "</table>\n",
              "</div>\n",
              "      <button class=\"colab-df-convert\" onclick=\"convertToInteractive('df-5f564e86-9002-4e75-81d7-37d16bacc988')\"\n",
              "              title=\"Convert this dataframe to an interactive table.\"\n",
              "              style=\"display:none;\">\n",
              "        \n",
              "  <svg xmlns=\"http://www.w3.org/2000/svg\" height=\"24px\"viewBox=\"0 0 24 24\"\n",
              "       width=\"24px\">\n",
              "    <path d=\"M0 0h24v24H0V0z\" fill=\"none\"/>\n",
              "    <path d=\"M18.56 5.44l.94 2.06.94-2.06 2.06-.94-2.06-.94-.94-2.06-.94 2.06-2.06.94zm-11 1L8.5 8.5l.94-2.06 2.06-.94-2.06-.94L8.5 2.5l-.94 2.06-2.06.94zm10 10l.94 2.06.94-2.06 2.06-.94-2.06-.94-.94-2.06-.94 2.06-2.06.94z\"/><path d=\"M17.41 7.96l-1.37-1.37c-.4-.4-.92-.59-1.43-.59-.52 0-1.04.2-1.43.59L10.3 9.45l-7.72 7.72c-.78.78-.78 2.05 0 2.83L4 21.41c.39.39.9.59 1.41.59.51 0 1.02-.2 1.41-.59l7.78-7.78 2.81-2.81c.8-.78.8-2.07 0-2.86zM5.41 20L4 18.59l7.72-7.72 1.47 1.35L5.41 20z\"/>\n",
              "  </svg>\n",
              "      </button>\n",
              "      \n",
              "  <style>\n",
              "    .colab-df-container {\n",
              "      display:flex;\n",
              "      flex-wrap:wrap;\n",
              "      gap: 12px;\n",
              "    }\n",
              "\n",
              "    .colab-df-convert {\n",
              "      background-color: #E8F0FE;\n",
              "      border: none;\n",
              "      border-radius: 50%;\n",
              "      cursor: pointer;\n",
              "      display: none;\n",
              "      fill: #1967D2;\n",
              "      height: 32px;\n",
              "      padding: 0 0 0 0;\n",
              "      width: 32px;\n",
              "    }\n",
              "\n",
              "    .colab-df-convert:hover {\n",
              "      background-color: #E2EBFA;\n",
              "      box-shadow: 0px 1px 2px rgba(60, 64, 67, 0.3), 0px 1px 3px 1px rgba(60, 64, 67, 0.15);\n",
              "      fill: #174EA6;\n",
              "    }\n",
              "\n",
              "    [theme=dark] .colab-df-convert {\n",
              "      background-color: #3B4455;\n",
              "      fill: #D2E3FC;\n",
              "    }\n",
              "\n",
              "    [theme=dark] .colab-df-convert:hover {\n",
              "      background-color: #434B5C;\n",
              "      box-shadow: 0px 1px 3px 1px rgba(0, 0, 0, 0.15);\n",
              "      filter: drop-shadow(0px 1px 2px rgba(0, 0, 0, 0.3));\n",
              "      fill: #FFFFFF;\n",
              "    }\n",
              "  </style>\n",
              "\n",
              "      <script>\n",
              "        const buttonEl =\n",
              "          document.querySelector('#df-5f564e86-9002-4e75-81d7-37d16bacc988 button.colab-df-convert');\n",
              "        buttonEl.style.display =\n",
              "          google.colab.kernel.accessAllowed ? 'block' : 'none';\n",
              "\n",
              "        async function convertToInteractive(key) {\n",
              "          const element = document.querySelector('#df-5f564e86-9002-4e75-81d7-37d16bacc988');\n",
              "          const dataTable =\n",
              "            await google.colab.kernel.invokeFunction('convertToInteractive',\n",
              "                                                     [key], {});\n",
              "          if (!dataTable) return;\n",
              "\n",
              "          const docLinkHtml = 'Like what you see? Visit the ' +\n",
              "            '<a target=\"_blank\" href=https://colab.research.google.com/notebooks/data_table.ipynb>data table notebook</a>'\n",
              "            + ' to learn more about interactive tables.';\n",
              "          element.innerHTML = '';\n",
              "          dataTable['output_type'] = 'display_data';\n",
              "          await google.colab.output.renderOutput(dataTable, element);\n",
              "          const docLink = document.createElement('div');\n",
              "          docLink.innerHTML = docLinkHtml;\n",
              "          element.appendChild(docLink);\n",
              "        }\n",
              "      </script>\n",
              "    </div>\n",
              "  </div>\n",
              "  "
            ]
          },
          "metadata": {},
          "execution_count": 197
        }
      ]
    },
    {
      "cell_type": "markdown",
      "source": [
        "### set the parameter for generating the knowledge graph"
      ],
      "metadata": {
        "id": "FIhYK648LQK8"
      }
    },
    {
      "cell_type": "code",
      "source": [
        "knowledge_graph=nx.from_pandas_edgelist(knowledge_graph_df, \"source\", \"target\", edge_attr=True, create_using=nx.MultiDiGraph())"
      ],
      "metadata": {
        "id": "4wIVIj40FUkh"
      },
      "execution_count": 198,
      "outputs": []
    },
    {
      "cell_type": "markdown",
      "source": [
        "### Plot or Visualise the knowledge graph"
      ],
      "metadata": {
        "id": "KMnmV6OeLJcz"
      }
    },
    {
      "cell_type": "code",
      "source": [
        "from networkx.algorithms.connectivity.edge_augmentation import weighted_bridge_augmentation\n",
        "plt.figure(figsize=(14,14))\n",
        "\n",
        "pos = nx.spring_layout(knowledge_graph,seed=63)\n",
        "nx.draw(knowledge_graph, with_labels=True, node_color='#A0CBE2', edge_cmap=plt.cm.Blues, pos = pos,font_size=10,font_family=\"sans-serif\")\n",
        "plt.show()"
      ],
      "metadata": {
        "colab": {
          "base_uri": "https://localhost:8080/",
          "height": 1000
        },
        "id": "sGoXlx7jFZHN",
        "outputId": "a651d079-a437-4a01-9bef-4b65199d524e"
      },
      "execution_count": 223,
      "outputs": [
        {
          "output_type": "display_data",
          "data": {
            "text/plain": [
              "<Figure size 1008x1008 with 1 Axes>"
            ],
            "image/png": "[encoded data removed]"
          },
          "metadata": {}
        }
      ]
    }
  ]
}